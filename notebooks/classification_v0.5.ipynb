{
 "cells": [
  {
   "cell_type": "markdown",
   "metadata": {
    "_uuid": "3d95b11b2e8b7874c5183ca8fc868082845d2eb4"
   },
   "source": [
    "# 타이타닉 생존자 예측(Titanic Passengers Survival) with XGBoost & Grid Search"
   ]
  },
  {
   "cell_type": "code",
   "execution_count": null,
   "metadata": {
    "_cell_guid": "b1076dfc-b9ad-4769-8c92-a6c4dae69d19",
    "_uuid": "8f2839f25d086af736a60e9eeb907d3b93b6e0e5",
    "tags": []
   },
   "outputs": [],
   "source": [
    "import pandas as pd\n",
    "import numpy as np\n",
    "\n",
    "from sklearn.metrics import accuracy_score\n",
    "from sklearn.ensemble import GradientBoostingClassifier\n",
    "\n",
    "from sklearn.model_selection import GridSearchCV\n",
    "from sklearn.metrics import make_scorer\n",
    "\n",
    "from xgboost import XGBClassifier\n",
    "from xgboost import plot_importance\n",
    "\n",
    "import matplotlib.pyplot as plt\n",
    "import seaborn as sns"
   ]
  },
  {
   "cell_type": "markdown",
   "metadata": {
    "_uuid": "73c51997490874ba4bd73c7afd406af600f641bd"
   },
   "source": [
    "## 데이터 불러오기"
   ]
  },
  {
   "cell_type": "code",
   "execution_count": null,
   "metadata": {
    "_uuid": "9898d6a8f314cb425dcd3cc337750a94ff685019"
   },
   "outputs": [],
   "source": [
    "# train_df = ...\n",
    "# test_df  = ...\n",
    "# (len(train_df), len(test_df))"
   ]
  },
  {
   "cell_type": "code",
   "execution_count": null,
   "metadata": {
    "_uuid": "69b1fc9e621fca8942088c3a53bcd7ab1e277269"
   },
   "outputs": [],
   "source": [
    "# titanic_df = ...\n",
    "# titanic_df.info()"
   ]
  },
  {
   "cell_type": "markdown",
   "metadata": {
    "_uuid": "1ed50f34445d42c05ad5075923d5c50cb72f2f0a"
   },
   "source": [
    "* 데이터 종류\n",
    "\n",
    "Variable Name | Description\n",
    "------------------|-------------\n",
    "PassengerId | Passenger Id (unique)\n",
    "Survived | Survived (1) or died (0)\n",
    "Pclass | Passenger's class (1/Upper, 2/Middle, 3/Lower)\n",
    "Name | Passenger's Name (common Surname may be possible)\n",
    "Sex | Passenger's sex (just 'male' & 'female')\n",
    "Age (20% missing values) | Passenger's age\n",
    "SibSp | Number of siblings/spouses aboard\n",
    "Parch | Number of parents/children aboard\n",
    "Ticket | Ticket number (many of the ticket seem to be common for a group of passengers, i.e., they are group ticket)\n",
    "Fare (1 missing in 'test') | Fare\n",
    "Cabin (77% missing in both 'train'& 'test') | Cabin\n",
    "Embarked (2 missing values in 'train') | Port of embarkation"
   ]
  },
  {
   "cell_type": "code",
   "execution_count": null,
   "metadata": {},
   "outputs": [],
   "source": [
    "titanic_df.info()"
   ]
  },
  {
   "cell_type": "markdown",
   "metadata": {},
   "source": [
    "## EDA 및 전처리"
   ]
  },
  {
   "cell_type": "markdown",
   "metadata": {},
   "source": [
    "### Embarked 값 처리"
   ]
  },
  {
   "cell_type": "code",
   "execution_count": null,
   "metadata": {},
   "outputs": [],
   "source": [
    "sns.countplot(x='Embarked', data=titanic_df)"
   ]
  },
  {
   "cell_type": "code",
   "execution_count": null,
   "metadata": {},
   "outputs": [],
   "source": [
    "# Embarked의 NA 값은 S로 채우기\n",
    "# ..."
   ]
  },
  {
   "cell_type": "markdown",
   "metadata": {},
   "source": [
    "### Title 정리"
   ]
  },
  {
   "cell_type": "code",
   "execution_count": null,
   "metadata": {},
   "outputs": [],
   "source": [
    "import re\n",
    "titanic_df['Title'] = titanic_df.Name.apply(lambda x: re.search('([A-Z][a-z]+)\\.', x).group(1))\n",
    "sns.countplot(x='Title', data=titanic_df)\n",
    "plt.xticks(rotation=45);"
   ]
  },
  {
   "cell_type": "code",
   "execution_count": null,
   "metadata": {},
   "outputs": [],
   "source": [
    "titanic_df['Title'] = titanic_df['Title'].replace({'Mlle': 'Miss', \n",
    "                                                   'Major': 'Mr', \n",
    "                                                   'Col': 'Mr', \n",
    "                                                   'Sir': 'Mr', \n",
    "                                                   'Don': 'Mr', \n",
    "                                                   'Mme': 'Miss', \n",
    "                                                   'Jonkheer': 'Mr', \n",
    "                                                   'Lady': 'Mrs', \n",
    "                                                   'Capt': 'Mr', \n",
    "                                                   'Countess': 'Mrs', \n",
    "                                                   'Ms': 'Miss', \n",
    "                                                   'Dona': 'Mrs'})\n",
    "sns.countplot(x='Title', data=titanic_df);\n",
    "plt.xticks(rotation=45);"
   ]
  },
  {
   "cell_type": "markdown",
   "metadata": {},
   "source": [
    "### Age 정리"
   ]
  },
  {
   "cell_type": "code",
   "execution_count": null,
   "metadata": {},
   "outputs": [],
   "source": [
    "titles = ['Dr', 'Master', 'Miss', 'Mr', 'Mrs', 'Rev']\n",
    "for title in titles:\n",
    "    age_to_impute = titanic_df.groupby('Title')['Age'].median()[titles.index(title)]\n",
    "    titanic_df.loc[(titanic_df['Age'].isnull()) & (titanic_df['Title'] == title), 'Age'] = age_to_impute"
   ]
  },
  {
   "cell_type": "markdown",
   "metadata": {},
   "source": [
    "### SibSp, Parch 정리"
   ]
  },
  {
   "cell_type": "code",
   "execution_count": null,
   "metadata": {},
   "outputs": [],
   "source": [
    "titanic_df['Familial'] = (titanic_df['SibSp'] + titanic_df['Parch']) > 0"
   ]
  },
  {
   "cell_type": "code",
   "execution_count": null,
   "metadata": {},
   "outputs": [],
   "source": [
    "medianFare = titanic_df[titanic_df['Pclass'] == 3]['Fare'].median()\n",
    "titanic_df['Fare'] = titanic_df['Fare'].fillna(value = medianFare)"
   ]
  },
  {
   "cell_type": "markdown",
   "metadata": {},
   "source": [
    "### Categorizing"
   ]
  },
  {
   "cell_type": "code",
   "execution_count": null,
   "metadata": {},
   "outputs": [],
   "source": [
    "# Age\n",
    "# ..."
   ]
  },
  {
   "cell_type": "code",
   "execution_count": null,
   "metadata": {},
   "outputs": [],
   "source": [
    "# Fare\n",
    "# ..."
   ]
  },
  {
   "cell_type": "code",
   "execution_count": null,
   "metadata": {},
   "outputs": [],
   "source": [
    "# 성별 및 기타...\n",
    "# ...\n",
    "# ...\n",
    "# ..."
   ]
  },
  {
   "cell_type": "markdown",
   "metadata": {},
   "source": [
    "## 기존 데이터로 되돌리기"
   ]
  },
  {
   "cell_type": "code",
   "execution_count": null,
   "metadata": {},
   "outputs": [],
   "source": [
    "# Get back the features engineered train_df & test_df\n",
    "train_len = len(train_df)\n",
    "train_df = titanic_df.loc[titanic_df['PassengerId'] <= train_len]\n",
    "test_df = titanic_df.loc[titanic_df['PassengerId'] > train_len].iloc[:, titanic_df.columns != 'Survived']\n",
    "(len(train_df), len(test_df))"
   ]
  },
  {
   "cell_type": "markdown",
   "metadata": {},
   "source": [
    "## 모델 학습"
   ]
  },
  {
   "cell_type": "code",
   "execution_count": null,
   "metadata": {},
   "outputs": [],
   "source": [
    "# X, y\n",
    "Columns = ['SexBool', 'Pclass', 'Fare', 'CatAge', 'Familial', 'EmbarkedInt', 'TitleInt']\n",
    "Label = 'Survived'\n",
    "X_train = train_df.loc[:, train_df.columns != 'Survived']\n",
    "y_train = train_df['Survived']"
   ]
  },
  {
   "cell_type": "code",
   "execution_count": null,
   "metadata": {},
   "outputs": [],
   "source": [
    "model = XGBClassifier()"
   ]
  },
  {
   "cell_type": "code",
   "execution_count": null,
   "metadata": {},
   "outputs": [],
   "source": [
    "both_scoring = {'AUC': 'roc_auc', 'Accuracy': make_scorer(accuracy_score), 'Loss':'neg_log_loss'}\n",
    "params = {'n_estimators': [100, 200, 500, 1000, 1500],\n",
    "          'learning_rate': [0.05, 0.1, 0.2],\n",
    "          #'max_depth':[3, 4, 5]\n",
    "          }"
   ]
  },
  {
   "cell_type": "code",
   "execution_count": null,
   "metadata": {},
   "outputs": [],
   "source": [
    "clf = GridSearchCV(model, params, cv=5, scoring=both_scoring, refit='AUC', return_train_score=True)\n",
    "clf.fit(X_train[Columns], y_train)"
   ]
  },
  {
   "cell_type": "code",
   "execution_count": null,
   "metadata": {},
   "outputs": [],
   "source": [
    "print((clf.best_score_, clf.best_params_))\n",
    "print(\"=\"*30)\n",
    "\n",
    "print(\"Grid scores on training data:\")\n",
    "means = clf.cv_results_['mean_test_AUC']\n",
    "stds = clf.cv_results_['std_test_AUC']\n",
    "log_losses = clf.cv_results_['std_test_Loss']\n",
    "\n",
    "for mean, std, log_loss, params in zip(means, stds, log_losses, clf.cv_results_['params']):\n",
    "    print(f\"AUC Score: {mean} (+/-{std*2}); Log Loss: {log_loss} for {params}\")"
   ]
  },
  {
   "cell_type": "code",
   "execution_count": null,
   "metadata": {},
   "outputs": [],
   "source": [
    "results = clf.cv_results_\n",
    "\n",
    "plt.figure(figsize=(13, 13))\n",
    "plt.title(\"GridSearchCV evaluating using multiple scorers simultaneously\", fontsize=16)\n",
    "\n",
    "plt.xlabel(\"n_estimators: no of boosted trees\")\n",
    "plt.ylabel(\"AUC Score\")\n",
    "\n",
    "ax = plt.gca()\n",
    "ax.set_xlim(80, 1020)\n",
    "ax.set_ylim(0.7, 1)\n",
    "\n",
    "X_axis = np.array(results['param_n_estimators'].data, dtype=float)\n",
    "\n",
    "for scorer, color in zip(sorted(both_scoring), ['g', 'k']):\n",
    "    for sample, style in (('train', '--'), ('test', '-')):\n",
    "        sample_score_mean = results['mean_%s_%s' % (sample, scorer)]\n",
    "        sample_score_std = results['std_%s_%s' % (sample, scorer)]\n",
    "        ax.fill_between(X_axis, sample_score_mean - sample_score_std,\n",
    "                        sample_score_mean + sample_score_std,\n",
    "                        alpha=0.1 if sample == 'test' else 0, color=color)\n",
    "        ax.plot(X_axis, sample_score_mean, style, color=color,\n",
    "                alpha=1 if sample == 'test' else 0.7,\n",
    "                label=\"%s (%s)\" % (scorer, sample))\n",
    "\n",
    "    best_index = np.nonzero(results['rank_test_%s' % scorer] == 1)[0][0]\n",
    "    best_score = results['mean_test_%s' % scorer][best_index]\n",
    "\n",
    "    # Plot a dotted vertical line at the best score for that scorer marked by x\n",
    "    ax.plot([X_axis[best_index], ] * 2, [0, best_score],\n",
    "            linestyle='-.', color=color, marker='x', markeredgewidth=3, ms=8)\n",
    "\n",
    "    # Annotate the best score for that scorer\n",
    "    ax.annotate(\"%0.2f\" % best_score,\n",
    "                (X_axis[best_index], best_score + 0.005))\n",
    "\n",
    "plt.legend(loc=\"best\")\n",
    "plt.grid('off')\n",
    "plt.show()"
   ]
  },
  {
   "cell_type": "code",
   "execution_count": null,
   "metadata": {},
   "outputs": [],
   "source": [
    "# 예측\n",
    "predictions = clf.predict(test_df[Columns]).astype(int)\n",
    "submission = pd.DataFrame({'PassengerId':test_df['PassengerId'], 'Survived':predictions})"
   ]
  },
  {
   "cell_type": "code",
   "execution_count": null,
   "metadata": {},
   "outputs": [],
   "source": [
    "# Submit\n",
    "from datetime import datetime\n",
    "filename = datetime.today().strftime('%Y%m%d') + '_submit.csv'\n",
    "submission.to_csv(\"../data/\"+filename,index=False)"
   ]
  },
  {
   "cell_type": "code",
   "execution_count": null,
   "metadata": {},
   "outputs": [],
   "source": []
  }
 ],
 "metadata": {
  "kernelspec": {
   "display_name": "Python 3 (ipykernel)",
   "language": "python",
   "name": "python3"
  },
  "language_info": {
   "codemirror_mode": {
    "name": "ipython",
    "version": 3
   },
   "file_extension": ".py",
   "mimetype": "text/x-python",
   "name": "python",
   "nbconvert_exporter": "python",
   "pygments_lexer": "ipython3",
   "version": "3.10.11"
  }
 },
 "nbformat": 4,
 "nbformat_minor": 4
}
